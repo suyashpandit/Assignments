{
 "cells": [
  {
   "cell_type": "code",
   "execution_count": 10,
   "id": "cfc43309-dbee-4b8e-9c94-c8d0a8367c66",
   "metadata": {},
   "outputs": [
    {
     "name": "stdin",
     "output_type": "stream",
     "text": [
      "Enter your age: 33\n"
     ]
    },
    {
     "name": "stdout",
     "output_type": "stream",
     "text": [
      "Congratulations! You are eligible to vote!\n"
     ]
    }
   ],
   "source": [
    "#voting eligibility\n",
    "\n",
    "age=float(input(\"Enter your age:\")) #the user may just put numbers in decimal\n",
    "if age.is_integer(): #checking if integer was entered\n",
    "    age=int(age)\n",
    "    if age>=18:\n",
    "        print(\"Congratulations! You are eligible to vote!\")\n",
    "    else:\n",
    "        print(\"You have\" ,(18-age), \"more years left to be eligible to vote.\")\n",
    "else:\n",
    " print (\"Age cannot be in decimals. Please enter a whole number.\")"
   ]
  },
  {
   "cell_type": "code",
   "execution_count": 9,
   "id": "c6755cf3-0635-4fcc-b672-7269e23f0e4b",
   "metadata": {},
   "outputs": [
    {
     "name": "stdin",
     "output_type": "stream",
     "text": [
      "Enter the first number: 44\n",
      "Enter the second number: 22\n"
     ]
    },
    {
     "name": "stdout",
     "output_type": "stream",
     "text": [
      "What would you like to perform today?\n",
      "Type A for Addition\n",
      "Type S for Subtraction\n",
      "Type M for Multiplication\n",
      "Type D for Division\n"
     ]
    },
    {
     "name": "stdin",
     "output_type": "stream",
     "text": [
      " A\n"
     ]
    },
    {
     "name": "stdout",
     "output_type": "stream",
     "text": [
      "The sum of the numbers entered is: 66.0 .Thank you for using the calculator.\n"
     ]
    }
   ],
   "source": [
    "#creating a simple calculator\n",
    "num1 = float(input(\"Enter the first number:\"))\n",
    "num2 = float(input(\"Enter the second number:\"))\n",
    "\n",
    "print(\"What would you like to perform today?\") \n",
    "print(\"Type A for Addition\")\n",
    "print(\"Type S for Subtraction\")\n",
    "print(\"Type M for Multiplication\")\n",
    "print(\"Type D for Division\")\n",
    "opr=str(input())\n",
    "if opr==\"A\":\n",
    "    print (\"The sum of the numbers entered is:\",num1+num2,\".Thank you for using the calculator.\")\n",
    "elif opr==\"S\":\n",
    "    print (\"The difference of the numbers entered is:\",num1-num2,\".Thank you for using the calculator.\")\n",
    "elif opr==\"M\":\n",
    "    print (\"The product of the numbers entered is:\",num1*num2,\". Thank you for using the calculator.\")\n",
    "elif opr==\"D\":\n",
    "    while num2==0:\n",
    "        print(\"Second number cannot be zero\") \n",
    "        num2=float(input(\"Re-enter the second number:\"))\n",
    "    print(\"The classic division of the numbers entered is:\",num1/num2,\n",
    "          \"The floor division of the numbers entered is:\",num1//num2,\n",
    "          \"The remainder of floor division is:\",num1%num2,\".Thank you for using the calculator.\")\n",
    "else:\n",
    "    print(\"Operation invalid.\")"
   ]
  },
  {
   "cell_type": "code",
   "execution_count": 35,
   "id": "b6e6f730-172c-460d-9bd3-d3796f035f40",
   "metadata": {},
   "outputs": [
    {
     "name": "stdin",
     "output_type": "stream",
     "text": [
      "Enter the list of numbers you want maximum and minimum for. Separate them with spaces. 34 45 66 23 777\n"
     ]
    },
    {
     "name": "stdout",
     "output_type": "stream",
     "text": [
      "The maximum number is: 777\n",
      "The minimum number is: 23\n"
     ]
    }
   ],
   "source": [
    "#finding maximum and minimum of a list entered by an user\n",
    "\n",
    "user_num=input(\"Enter the list of numbers you want maximum and minimum for. Separate them with spaces.\") #must ask to separate with space to use .split\n",
    "list_string= user_num.split() #every input is a string. converting string to a list of strings using .split()\n",
    "\n",
    "#now convert these strings into integers to compare maximum and minimum \n",
    "\n",
    "final_num=[int(num) for num in list_string] #this is asking to convert every item in that list to an integer one by one using list comprehension\n",
    "print (f\"The maximum number is:\", max(final_num)) \n",
    "print (f\"The minimum number is:\", min(final_num)) "
   ]
  },
  {
   "cell_type": "code",
   "execution_count": 38,
   "id": "00542ff0-68ff-479f-80f6-2d24a758b0a1",
   "metadata": {},
   "outputs": [
    {
     "name": "stdin",
     "output_type": "stream",
     "text": [
      "Enter the number you want to check if it is prime or not: 24\n"
     ]
    },
    {
     "name": "stdout",
     "output_type": "stream",
     "text": [
      "24 is not a prime number because 24 is divisible by 2 .\n"
     ]
    }
   ],
   "source": [
    "#checking for if a user input number is prime\n",
    "\n",
    "user_num1=int(input(\"Enter the number you want to check if it is prime or not:\"))\n",
    "#prime number is divisible by itself and 1 only\n",
    "#only run for numbers greater than 1\n",
    "if user_num1 > 1 : #then run\n",
    "    for i in range (2,user_num1): #assign i to every number from 2 to the entered number minus 1\n",
    "        if user_num1%i==0: #if the entered number floor divided by every number in the list does not give 0 as remainder, only then it is prime\n",
    "            print(user_num1, \"is not a prime number because\", user_num1, \"is divisible by\", i,\".\")\n",
    "            break #as soon as any other number divides it with 0 remainder, we break the loop\n",
    "    else: #continue looping #else is skipped if break is executed so else doesn't need to be within the if block in this case\n",
    "            print(user_num1, \"is a prime number\")\n",
    "else:\n",
    "    print(user_num1,\"is not a prime number\")"
   ]
  },
  {
   "cell_type": "code",
   "execution_count": 40,
   "id": "666a3f08-a657-4350-91b2-d3e394e0134d",
   "metadata": {},
   "outputs": [
    {
     "name": "stdin",
     "output_type": "stream",
     "text": [
      "Enter the number you need the factorial for: 5\n"
     ]
    },
    {
     "name": "stdout",
     "output_type": "stream",
     "text": [
      "The factorial of 5 is 120.\n"
     ]
    }
   ],
   "source": [
    "#using recursion to calculate factorial\n",
    "\n",
    "def factorial(n): #defining the function that is being created\n",
    "    if n==1 or n==0:\n",
    "        return 1 #base case for factorial of 0 is 1 and of 1 is 1, so as soon as factorial(n) is factorial(1), it stops\n",
    "    else:\n",
    "        return n*factorial(n-1)\n",
    "user_num3=int(input(\"Enter the number you need the factorial for:\"))\n",
    "print(f\"The factorial of {user_num3} is {factorial(user_num3)}.\")"
   ]
  },
  {
   "cell_type": "code",
   "execution_count": 41,
   "id": "48413a9d-24d1-4804-9ae0-68a08f1bbb29",
   "metadata": {},
   "outputs": [
    {
     "name": "stdin",
     "output_type": "stream",
     "text": [
      "Enter the number you wish the fibonacci series to start from: 5\n",
      "Enter the number of terms you wish the series to be generated for: 5\n"
     ]
    },
    {
     "name": "stdout",
     "output_type": "stream",
     "text": [
      "The fibonacci starting from the number you requested to the terms you requested is [5, 6, 11, 17, 28]\n"
     ]
    }
   ],
   "source": [
    "#fibonacci\n",
    "\n",
    "user_num4=int(input(\"Enter the number you wish the fibonacci series to start from:\")) #input number\n",
    "user_term=int(input(\"Enter the number of terms you wish the series to be generated for:\")) #input how long series to go\n",
    "\n",
    "def fibonacci(user_num4, user_term): #defining a function\n",
    "    fibonacci_series=[] #making a list\n",
    "    a, b = user_num4, user_num4+1 #tuple unpacking also k/a multiple assignment k/a parallel assignment #basically like saying a = 1, b =2\n",
    "    for _ in range(user_term): #giving range until when to keep looping #not using \"i\" but using \"_\" because there is no need to label \n",
    "        fibonacci_series.append(a) #appending to the list\n",
    "        a, b = b, a+b \n",
    "    return fibonacci_series\n",
    "\n",
    "print(f\"The fibonacci starting from the number you requested to the terms you requested is {fibonacci(user_num4, user_term)}\")"
   ]
  },
  {
   "cell_type": "code",
   "execution_count": 31,
   "id": "067ca5c4-0b55-41c3-b82c-ccf6522340e8",
   "metadata": {},
   "outputs": [
    {
     "name": "stdin",
     "output_type": "stream",
     "text": [
      "Enter the number to calculate the sum of its digits: 1234\n"
     ]
    },
    {
     "name": "stdout",
     "output_type": "stream",
     "text": [
      "The sum of the digits of the entered number is: 10\n"
     ]
    }
   ],
   "source": [
    "#sum of digits\n",
    "\n",
    "user_num5=input(\"Enter the number to calculate the sum of its digits:\") #accepting as a string #will use list comprehension to change each item \n",
    "\n",
    "final_num5=[int(digit) for digit in user_num5] #this is asking to convert every item in that string to an integer one by one using list comprehension\n",
    "\n",
    "print(f\"The sum of the digits of the entered number is: {sum(final_num5)}\")"
   ]
  },
  {
   "cell_type": "code",
   "execution_count": 49,
   "id": "8384c882-2939-4c8f-8af7-196ceae2991f",
   "metadata": {},
   "outputs": [
    {
     "name": "stdin",
     "output_type": "stream",
     "text": [
      "Enter the decimal to be converted to binary: 6\n"
     ]
    },
    {
     "name": "stdout",
     "output_type": "stream",
     "text": [
      "The requested binary is 110.\n"
     ]
    }
   ],
   "source": [
    "#decimal to binary\n",
    "\n",
    "user_num6=int(input(\"Enter the decimal to be converted to binary:\"))\n",
    "binary = [] #making a list\n",
    "while user_num6>0:\n",
    "    remainder = user_num6%2 \n",
    "    str_remainder=str(remainder) #convert integer to string\n",
    "    binary.append(str_remainder) #append to the list\n",
    "    user_num6=user_num6//2 #new input is the quotient and keep going until quotient is zero\n",
    "binary.reverse() #reversing all the items in the list \n",
    "str_binary = \"\" #creating empty string list\n",
    "for i in binary:\n",
    "    str_binary +=i \n",
    "\n",
    "print (f\"The requested binary is {str_binary}.\")"
   ]
  },
  {
   "cell_type": "code",
   "execution_count": 1,
   "id": "591a4ec2-a70c-4d4c-ac89-7d3725e8b5e0",
   "metadata": {},
   "outputs": [
    {
     "name": "stdin",
     "output_type": "stream",
     "text": [
      "Enter the first number:  48\n",
      "Enter the second number:  18\n"
     ]
    },
    {
     "name": "stdout",
     "output_type": "stream",
     "text": [
      "The GCD of the number entered is: 6\n"
     ]
    }
   ],
   "source": [
    "#GCD\n",
    "\n",
    "user_num7 = int(input(\"Enter the first number: \"))\n",
    "user_num8 = int(input(\"Enter the second number: \"))\n",
    "\n",
    "if user_num8 > user_num7:\n",
    "    user_num7, user_num8 = user_num8, user_num7  # changing values so that larger number comes first always\n",
    "while user_num8 != 0:\n",
    "    user_num7, user_num8 = user_num8, user_num7 % user_num8  # Euclid's algorithm\n",
    "\n",
    "print(\"The GCD of the numbers entered is:\", user_num7)"
   ]
  },
  {
   "cell_type": "code",
   "execution_count": 6,
   "id": "4ac91b6d-e1ed-4fce-8b1f-a367f83828ee",
   "metadata": {},
   "outputs": [
    {
     "name": "stdin",
     "output_type": "stream",
     "text": [
      "Enter the list of numbers you want second largest for. Separate them with spaces. 33 44 55 66\n"
     ]
    },
    {
     "name": "stdout",
     "output_type": "stream",
     "text": [
      "The second largest number from the list you entered is: 55\n"
     ]
    }
   ],
   "source": [
    "#second largest number\n",
    "\n",
    "user_num9=input(\"Enter the list of numbers you want second largest for. Separate them with spaces.\") #must ask to separate with space to use .split\n",
    "list_string2= user_num9.split() #every input is a string. converting string to a list of strings using .split()\n",
    "\n",
    "#now convert these strings into integers to compare maximum and minimum \n",
    "\n",
    "final_list=[int(num) for num in list_string2] #this is asking to convert every item in that list to an integer one by one using list comprehension\n",
    "largest_num = max(final_list) \n",
    "final_list.remove(largest_num) #removing largest number from the list\n",
    "print (\"The second largest number from the list you entered is:\", max(final_list))"
   ]
  },
  {
   "cell_type": "code",
   "execution_count": 5,
   "id": "498cb3ca-d0c6-494f-bc6a-cef2dc36767c",
   "metadata": {},
   "outputs": [
    {
     "name": "stdin",
     "output_type": "stream",
     "text": [
      "Enter the number to count the digits: 1234567890\n"
     ]
    },
    {
     "name": "stdout",
     "output_type": "stream",
     "text": [
      "The sum of the digits of the entered number is: 10\n"
     ]
    }
   ],
   "source": [
    "#number of digits in a given number\n",
    "\n",
    "user_num10=input(\"Enter the number to count the digits:\") #accepting as a string #will use list comprehension to change each item \n",
    "\n",
    "list_num10=[int(digit) for digit in user_num10] #this is asking to convert every item in that string to an integer one by one using list comprehension\n",
    "\n",
    "print(f\"The sum of the digits of the entered number is: {len(list_num10)}\")"
   ]
  },
  {
   "cell_type": "code",
   "execution_count": 8,
   "id": "61be73b8-0090-42b5-8f75-02fd2551733b",
   "metadata": {},
   "outputs": [
    {
     "name": "stdin",
     "output_type": "stream",
     "text": [
      "Enter the number to check:  66\n"
     ]
    },
    {
     "name": "stdout",
     "output_type": "stream",
     "text": [
      "66 is NOT a power of 2.\n"
     ]
    }
   ],
   "source": [
    "#checking if a number is power of 2\n",
    "\n",
    "def power_of_two(num): #defining the function\n",
    "    if num < 1: #0 and 1 is excluded\n",
    "        return False\n",
    "    while num % 2 == 0:#as long as the remainder is zero, keep going\n",
    "        num = num // 2 #keep dividing\n",
    "    return num == 1 # the last result is 1 if it is a power\n",
    "user_num11 = int(input(\"Enter the number to check: \"))\n",
    "if power_of_two(user_num11):\n",
    "    print(user_num11, \"is a power of 2.\")\n",
    "else:\n",
    "    print(user_num11, \"is not a power of 2.\")"
   ]
  }
 ],
 "metadata": {
  "kernelspec": {
   "display_name": "Python [conda env:base] *",
   "language": "python",
   "name": "conda-base-py"
  },
  "language_info": {
   "codemirror_mode": {
    "name": "ipython",
    "version": 3
   },
   "file_extension": ".py",
   "mimetype": "text/x-python",
   "name": "python",
   "nbconvert_exporter": "python",
   "pygments_lexer": "ipython3",
   "version": "3.12.7"
  }
 },
 "nbformat": 4,
 "nbformat_minor": 5
}
